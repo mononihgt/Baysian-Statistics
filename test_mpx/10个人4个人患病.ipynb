{
 "cells": [
  {
   "cell_type": "code",
   "execution_count": 6,
   "metadata": {},
   "outputs": [],
   "source": [
    "from sympy import *\n",
    "import numpy as np\n",
    "theta = Symbol('x')\n",
    "n = 10\n",
    "z = 4\n",
    "L = np.power(theta,z)*np.power(1-theta,n-z)"
   ]
  },
  {
   "cell_type": "markdown",
   "metadata": {},
   "source": [
    "$ H_1 $ 为 \n",
    "$ \\theta  \\text{ 为 uniform(0, 1)} $\n",
    "时，直接积分"
   ]
  },
  {
   "cell_type": "code",
   "execution_count": 25,
   "metadata": {},
   "outputs": [
    {
     "name": "stdout",
     "output_type": "stream",
     "text": [
      "1/2310\n"
     ]
    }
   ],
   "source": [
    "P_D_H1 = integrate(L,(theta,0,1))\n",
    "print(P_D_H1)"
   ]
  },
  {
   "cell_type": "markdown",
   "metadata": {},
   "source": [
    "如果$H_1$不是均匀分布，则$P(D|H_1) = \\int_{lower}^{upper} L(D|\\theta)f(\\theta)d\\theta$"
   ]
  },
  {
   "cell_type": "code",
   "execution_count": null,
   "metadata": {},
   "outputs": [
    {
     "name": "stdout",
     "output_type": "stream",
     "text": [
      "0.0011943936\n"
     ]
    }
   ],
   "source": [
    "# 求当theta = 0.4时的概率  P(D|H0)\n",
    "P_D_H0 = float(L.subs(theta,0.4))\n",
    "print(P_D_H0)"
   ]
  },
  {
   "cell_type": "code",
   "execution_count": 29,
   "metadata": {},
   "outputs": [
    {
     "name": "stdout",
     "output_type": "stream",
     "text": [
      "0.362443697706043\n",
      "2.75904921600000\n"
     ]
    }
   ],
   "source": [
    "BF_10 = P_D_H1/P_D_H0\n",
    "print(BF_10)\n",
    "print(1/BF_10)"
   ]
  },
  {
   "cell_type": "code",
   "execution_count": 28,
   "metadata": {},
   "outputs": [
    {
     "name": "stdout",
     "output_type": "stream",
     "text": [
      "9.510507144806401e-07\n",
      "3.35450803808753\n"
     ]
    }
   ],
   "source": [
    "n2 = n+10\n",
    "z2 = z+5\n",
    "L2 = np.power(theta,z2)*np.power(1-theta,n2-z2)\n",
    "P_D_H1_2 = integrate(L2,(theta,0,1))\n",
    "P_D_H0_2 = float(L2.subs(theta,0.4))\n",
    "print(P_D_H0_2)\n",
    "BF_01 = P_D_H0_2/P_D_H1_2\n",
    "print(BF_01)"
   ]
  },
  {
   "cell_type": "code",
   "execution_count": null,
   "metadata": {},
   "outputs": [],
   "source": [
    "# 画出卡方的概率密度函数"
   ]
  }
 ],
 "metadata": {
  "kernelspec": {
   "display_name": "Python 3",
   "language": "python",
   "name": "python3"
  },
  "language_info": {
   "codemirror_mode": {
    "name": "ipython",
    "version": 3
   },
   "file_extension": ".py",
   "mimetype": "text/x-python",
   "name": "python",
   "nbconvert_exporter": "python",
   "pygments_lexer": "ipython3",
   "version": "3.12.8"
  }
 },
 "nbformat": 4,
 "nbformat_minor": 2
}
