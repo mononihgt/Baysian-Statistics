{
 "cells": [
  {
   "cell_type": "code",
   "execution_count": 5,
   "id": "6c31dbf1",
   "metadata": {},
   "outputs": [
    {
     "name": "stdout",
     "output_type": "stream",
     "text": [
      "x_0 = 0.045\n",
      "x_1 = 0.136\n",
      "x_2 = 0.227\n",
      "x_3 = 0.318\n",
      "x_4 = 0.409\n",
      "x_5 = 0.500\n",
      "x_6 = 0.591\n",
      "x_7 = 0.682\n",
      "x_8 = 0.773\n",
      "x_9 = 0.864\n",
      "x_10 = 0.955\n",
      "p(0.045) = 0.02356902356902357\n",
      "p(0.136) = 0.06397306397306397\n",
      "p(0.227) = 0.09539842873176207\n",
      "p(0.318) = 0.11784511784511786\n",
      "p(0.409) = 0.1313131313131313\n",
      "p(0.500) = 0.13580246913580246\n",
      "p(0.591) = 0.13131313131313133\n",
      "p(0.682) = 0.11784511784511784\n",
      "p(0.773) = 0.09539842873176207\n",
      "p(0.864) = 0.06397306397306393\n",
      "p(0.955) = 0.023569023569023552\n",
      "\n",
      "\n",
      "p(D) = 0.0009284665106670891\n"
     ]
    }
   ],
   "source": [
    "from pylab import *\n",
    "import numpy as np\n",
    "N = 11\n",
    "x_list_temp = np.linspace(0,1,num = N+1, endpoint=True)\n",
    "x_list = []\n",
    "for i in range(len(x_list_temp)-1):\n",
    "    x_list.append((x_list_temp[i]+x_list_temp[i+1])/2)\n",
    "    print(f'x_{i} = {x_list[i]:.3f}')\n",
    "p_list = []\n",
    "p_norm = []\n",
    "sum = 0\n",
    "p_D = 0\n",
    "for x in x_list:\n",
    "    p = np.power(x,1)*np.power(1-x,1)\n",
    "    sum += p\n",
    "    p_list.append(p)\n",
    "for x, p in zip(x_list, p_list):\n",
    "    p_norm.append(p/sum)\n",
    "    print(f'p({x:.3f}) = {p/sum}')\n",
    "    pD_given_theta = np.power(x,7)*np.power(1-x,3)\n",
    "    p_D += p * pD_given_theta / sum\n",
    "print(f'\\n\\np(D) = {p_D}')"
   ]
  },
  {
   "cell_type": "code",
   "execution_count": 6,
   "id": "7cc56604",
   "metadata": {},
   "outputs": [
    {
     "data": {
      "text/plain": [
       "0.4219667309546942"
      ]
     },
     "execution_count": 6,
     "metadata": {},
     "output_type": "execute_result"
    }
   ],
   "source": [
    "100 * np.abs(p_D - 2/2145)/(2/2145)"
   ]
  },
  {
   "cell_type": "code",
   "execution_count": null,
   "id": "d247cfef",
   "metadata": {},
   "outputs": [
    {
     "name": "stdout",
     "output_type": "stream",
     "text": [
      "[0.1, 0.30000000000000004, 0.5, 0.7000000000000001, 0.9]\n"
     ]
    }
   ],
   "source": []
  }
 ],
 "metadata": {
  "kernelspec": {
   "display_name": "Python 3",
   "language": "python",
   "name": "python3"
  },
  "language_info": {
   "codemirror_mode": {
    "name": "ipython",
    "version": 3
   },
   "file_extension": ".py",
   "mimetype": "text/x-python",
   "name": "python",
   "nbconvert_exporter": "python",
   "pygments_lexer": "ipython3",
   "version": "3.12.9"
  }
 },
 "nbformat": 4,
 "nbformat_minor": 5
}
